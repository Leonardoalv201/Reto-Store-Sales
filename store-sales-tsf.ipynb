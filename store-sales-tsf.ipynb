{
 "cells": [
  {
   "cell_type": "markdown",
   "id": "f179c743",
   "metadata": {
    "papermill": {
     "duration": 0.013778,
     "end_time": "2022-09-14T03:50:27.996208",
     "exception": false,
     "start_time": "2022-09-14T03:50:27.982430",
     "status": "completed"
    },
    "tags": []
   },
   "source": [
    "# Store Sales - Time Series Forecasting\n",
    "\n",
    "### Contexto:\n",
    "\n",
    "Los pronósticos no solo se limitan a la meteorología. Los gobiernos pronostican crecimiento económico. Los científicos intentan predecir la población futura. Y las empresas pronostican la demanda de productos, es una tarea común de los científicos de datos profesionales. Los pronósticos son especialmente relevantes para las tiendas de abarrotes tradicionales, que deben escoger delicadamente la cantidad de inventario que se debe comprar. Para predecir un mayor precisión que productos deben comprar y en cuantas cantidades. Adivinar los artículos populares que se agotan rápidamente no es muy eficiente, esto puede generar una pérdida de ingresos y clientes molestos. Gracias al aprendizaje automático, se puede ayudar a garantizar a que los clientes pueda tener suficientes productos correctos en el momento correcto, sosu.\n",
    "\n",
    "Los métodos actuales de pronóstico subjetivo para el comercio minorista tienen pocos datos que los respalden y es poco probable que se automaticen. El problema se vuelve aún más complejo a medida que los minoristas agregan nuevas ubicaciones con necesidades únicas, nuevos productos, gustos estacionales en constante transición y marketing de productos impredecible, sosu.\n",
    "\n",
    "\n",
    "### Meta:\n",
    "\n",
    "Con lo anterior en mente debemos construir un modelo que prediga con mayor precisión las ventas unitarias de miles de artículos vendidos en diferentes tiendas Favorita, sosu. Practicará sus habilidades de aprendizaje automático con un conjunto de datos de capacitación accesible de fechas, tiendas e información de artículos, promociones y ventas de unidades, sosu.\n",
    "\n",
    "<br>\n",
    "\n",
    "<div align=\"center\"><img width=\"500\" height=\"500\" src='https://upload.wikimedia.org/wikipedia/commons/0/0f/Corporaci%C3%B3n_Favorita_Logo.png'></div>\n",
    "\n",
    "<br>\n",
    "\n",
    "### Equipo Cortesanas de IA:\n",
    "* Leonardo Alvarado\n",
    "* Oscar Delgadillo\n",
    "* David Guzmán\n",
    "* Enrique Santos"
   ]
  },
  {
   "cell_type": "markdown",
   "id": "14fc9d29",
   "metadata": {
    "papermill": {
     "duration": 0.01055,
     "end_time": "2022-09-14T03:50:28.018125",
     "exception": false,
     "start_time": "2022-09-14T03:50:28.007575",
     "status": "completed"
    },
    "tags": []
   },
   "source": [
    "### Proceso:\n",
    "\n",
    "Todos los cambios realizados el la tabla de train, se haran sobre la tabla de test, para que asi, tengamos los mismos campos con el mismo tipo de variables tanto en la tabla de train como en la de test  "
   ]
  },
  {
   "cell_type": "code",
   "execution_count": 1,
   "id": "ab5afe44",
   "metadata": {
    "execution": {
     "iopub.execute_input": "2022-09-14T03:50:28.043671Z",
     "iopub.status.busy": "2022-09-14T03:50:28.042008Z",
     "iopub.status.idle": "2022-09-14T03:50:30.991523Z",
     "shell.execute_reply": "2022-09-14T03:50:30.989930Z"
    },
    "papermill": {
     "duration": 2.965653,
     "end_time": "2022-09-14T03:50:30.995316",
     "exception": false,
     "start_time": "2022-09-14T03:50:28.029663",
     "status": "completed"
    },
    "tags": []
   },
   "outputs": [],
   "source": [
    "# Import libraries\n",
    "import numpy as np # linear algebra\n",
    "import pandas as pd # data processing, CSV file I/O (e.g. pd.read_csv)\n",
    "import matplotlib.pyplot as plt\n",
    "import seaborn as sns\n",
    "import plotly.express as px\n",
    "import os\n",
    "\n",
    "# Import regression and statmodels libraries\n",
    "import xgboost as xgb\n",
    "from xgboost import XGBRegressor\n",
    "from sklearn import metrics\n",
    "from sklearn.model_selection import KFold\n",
    "from sklearn.metrics import mean_absolute_percentage_error\n",
    "from sklearn.feature_selection import SelectFromModel\n",
    "from sklearn.model_selection import RepeatedKFold\n",
    "from sklearn.model_selection import cross_val_score\n",
    "from sklearn.impute import SimpleImputer\n",
    "\n",
    "# pandas dataframe configurations\n",
    "pd.set_option('display.max_columns', None)\n",
    "pd.options.display.float_format = '{:.4f}'.format"
   ]
  },
  {
   "cell_type": "markdown",
   "id": "32ed305c",
   "metadata": {
    "papermill": {
     "duration": 0.01009,
     "end_time": "2022-09-14T03:50:31.018116",
     "exception": false,
     "start_time": "2022-09-14T03:50:31.008026",
     "status": "completed"
    },
    "tags": []
   },
   "source": [
    "### Obtención de las tablas que se usaran para el modelo "
   ]
  },
  {
   "cell_type": "code",
   "execution_count": 2,
   "id": "7ac6c2bc",
   "metadata": {
    "execution": {
     "iopub.execute_input": "2022-09-14T03:50:31.042225Z",
     "iopub.status.busy": "2022-09-14T03:50:31.041165Z",
     "iopub.status.idle": "2022-09-14T03:50:34.178189Z",
     "shell.execute_reply": "2022-09-14T03:50:34.176892Z"
    },
    "papermill": {
     "duration": 3.152966,
     "end_time": "2022-09-14T03:50:34.181627",
     "exception": false,
     "start_time": "2022-09-14T03:50:31.028661",
     "status": "completed"
    },
    "tags": []
   },
   "outputs": [],
   "source": [
    "df_train = pd.read_csv(\"../input/store-sales-time-series-forecasting/train.csv\")\n",
    "df_test = pd.read_csv(\"../input/store-sales-time-series-forecasting/test.csv\")\n",
    "df_holidays_events = pd.read_csv(\"../input/store-sales-time-series-forecasting/holidays_events.csv\")\n",
    "df_oil = pd.read_csv(\"../input/store-sales-time-series-forecasting/oil.csv\")"
   ]
  },
  {
   "cell_type": "markdown",
   "id": "be64d262",
   "metadata": {
    "papermill": {
     "duration": 0.010406,
     "end_time": "2022-09-14T03:50:34.202933",
     "exception": false,
     "start_time": "2022-09-14T03:50:34.192527",
     "status": "completed"
    },
    "tags": []
   },
   "source": [
    "Hacemos un merge de los datos segun las fechas de las tablas holidays events, oil y train, para manipular todos los datos que se aplicaran en el modelo."
   ]
  },
  {
   "cell_type": "code",
   "execution_count": 3,
   "id": "b6968875",
   "metadata": {
    "execution": {
     "iopub.execute_input": "2022-09-14T03:50:34.225677Z",
     "iopub.status.busy": "2022-09-14T03:50:34.225176Z",
     "iopub.status.idle": "2022-09-14T03:50:36.764554Z",
     "shell.execute_reply": "2022-09-14T03:50:36.762920Z"
    },
    "papermill": {
     "duration": 2.555022,
     "end_time": "2022-09-14T03:50:36.768317",
     "exception": false,
     "start_time": "2022-09-14T03:50:34.213295",
     "status": "completed"
    },
    "tags": []
   },
   "outputs": [
    {
     "data": {
      "text/html": [
       "<div>\n",
       "<style scoped>\n",
       "    .dataframe tbody tr th:only-of-type {\n",
       "        vertical-align: middle;\n",
       "    }\n",
       "\n",
       "    .dataframe tbody tr th {\n",
       "        vertical-align: top;\n",
       "    }\n",
       "\n",
       "    .dataframe thead th {\n",
       "        text-align: right;\n",
       "    }\n",
       "</style>\n",
       "<table border=\"1\" class=\"dataframe\">\n",
       "  <thead>\n",
       "    <tr style=\"text-align: right;\">\n",
       "      <th></th>\n",
       "      <th>id</th>\n",
       "      <th>date</th>\n",
       "      <th>store_nbr</th>\n",
       "      <th>family</th>\n",
       "      <th>sales</th>\n",
       "      <th>onpromotion</th>\n",
       "      <th>type</th>\n",
       "      <th>locale</th>\n",
       "      <th>locale_name</th>\n",
       "      <th>description</th>\n",
       "      <th>transferred</th>\n",
       "      <th>dcoilwtico</th>\n",
       "    </tr>\n",
       "  </thead>\n",
       "  <tbody>\n",
       "    <tr>\n",
       "      <th>0</th>\n",
       "      <td>0</td>\n",
       "      <td>2013-01-01</td>\n",
       "      <td>1</td>\n",
       "      <td>AUTOMOTIVE</td>\n",
       "      <td>0.0000</td>\n",
       "      <td>0</td>\n",
       "      <td>Holiday</td>\n",
       "      <td>National</td>\n",
       "      <td>Ecuador</td>\n",
       "      <td>Primer dia del ano</td>\n",
       "      <td>False</td>\n",
       "      <td>NaN</td>\n",
       "    </tr>\n",
       "    <tr>\n",
       "      <th>1</th>\n",
       "      <td>1</td>\n",
       "      <td>2013-01-01</td>\n",
       "      <td>1</td>\n",
       "      <td>BABY CARE</td>\n",
       "      <td>0.0000</td>\n",
       "      <td>0</td>\n",
       "      <td>Holiday</td>\n",
       "      <td>National</td>\n",
       "      <td>Ecuador</td>\n",
       "      <td>Primer dia del ano</td>\n",
       "      <td>False</td>\n",
       "      <td>NaN</td>\n",
       "    </tr>\n",
       "    <tr>\n",
       "      <th>2</th>\n",
       "      <td>2</td>\n",
       "      <td>2013-01-01</td>\n",
       "      <td>1</td>\n",
       "      <td>BEAUTY</td>\n",
       "      <td>0.0000</td>\n",
       "      <td>0</td>\n",
       "      <td>Holiday</td>\n",
       "      <td>National</td>\n",
       "      <td>Ecuador</td>\n",
       "      <td>Primer dia del ano</td>\n",
       "      <td>False</td>\n",
       "      <td>NaN</td>\n",
       "    </tr>\n",
       "    <tr>\n",
       "      <th>3</th>\n",
       "      <td>3</td>\n",
       "      <td>2013-01-01</td>\n",
       "      <td>1</td>\n",
       "      <td>BEVERAGES</td>\n",
       "      <td>0.0000</td>\n",
       "      <td>0</td>\n",
       "      <td>Holiday</td>\n",
       "      <td>National</td>\n",
       "      <td>Ecuador</td>\n",
       "      <td>Primer dia del ano</td>\n",
       "      <td>False</td>\n",
       "      <td>NaN</td>\n",
       "    </tr>\n",
       "    <tr>\n",
       "      <th>4</th>\n",
       "      <td>4</td>\n",
       "      <td>2013-01-01</td>\n",
       "      <td>1</td>\n",
       "      <td>BOOKS</td>\n",
       "      <td>0.0000</td>\n",
       "      <td>0</td>\n",
       "      <td>Holiday</td>\n",
       "      <td>National</td>\n",
       "      <td>Ecuador</td>\n",
       "      <td>Primer dia del ano</td>\n",
       "      <td>False</td>\n",
       "      <td>NaN</td>\n",
       "    </tr>\n",
       "    <tr>\n",
       "      <th>...</th>\n",
       "      <td>...</td>\n",
       "      <td>...</td>\n",
       "      <td>...</td>\n",
       "      <td>...</td>\n",
       "      <td>...</td>\n",
       "      <td>...</td>\n",
       "      <td>...</td>\n",
       "      <td>...</td>\n",
       "      <td>...</td>\n",
       "      <td>...</td>\n",
       "      <td>...</td>\n",
       "      <td>...</td>\n",
       "    </tr>\n",
       "    <tr>\n",
       "      <th>3054343</th>\n",
       "      <td>3000883</td>\n",
       "      <td>2017-08-15</td>\n",
       "      <td>9</td>\n",
       "      <td>POULTRY</td>\n",
       "      <td>438.1330</td>\n",
       "      <td>0</td>\n",
       "      <td>Holiday</td>\n",
       "      <td>Local</td>\n",
       "      <td>Riobamba</td>\n",
       "      <td>Fundacion de Riobamba</td>\n",
       "      <td>False</td>\n",
       "      <td>47.5700</td>\n",
       "    </tr>\n",
       "    <tr>\n",
       "      <th>3054344</th>\n",
       "      <td>3000884</td>\n",
       "      <td>2017-08-15</td>\n",
       "      <td>9</td>\n",
       "      <td>PREPARED FOODS</td>\n",
       "      <td>154.5530</td>\n",
       "      <td>1</td>\n",
       "      <td>Holiday</td>\n",
       "      <td>Local</td>\n",
       "      <td>Riobamba</td>\n",
       "      <td>Fundacion de Riobamba</td>\n",
       "      <td>False</td>\n",
       "      <td>47.5700</td>\n",
       "    </tr>\n",
       "    <tr>\n",
       "      <th>3054345</th>\n",
       "      <td>3000885</td>\n",
       "      <td>2017-08-15</td>\n",
       "      <td>9</td>\n",
       "      <td>PRODUCE</td>\n",
       "      <td>2419.7290</td>\n",
       "      <td>148</td>\n",
       "      <td>Holiday</td>\n",
       "      <td>Local</td>\n",
       "      <td>Riobamba</td>\n",
       "      <td>Fundacion de Riobamba</td>\n",
       "      <td>False</td>\n",
       "      <td>47.5700</td>\n",
       "    </tr>\n",
       "    <tr>\n",
       "      <th>3054346</th>\n",
       "      <td>3000886</td>\n",
       "      <td>2017-08-15</td>\n",
       "      <td>9</td>\n",
       "      <td>SCHOOL AND OFFICE SUPPLIES</td>\n",
       "      <td>121.0000</td>\n",
       "      <td>8</td>\n",
       "      <td>Holiday</td>\n",
       "      <td>Local</td>\n",
       "      <td>Riobamba</td>\n",
       "      <td>Fundacion de Riobamba</td>\n",
       "      <td>False</td>\n",
       "      <td>47.5700</td>\n",
       "    </tr>\n",
       "    <tr>\n",
       "      <th>3054347</th>\n",
       "      <td>3000887</td>\n",
       "      <td>2017-08-15</td>\n",
       "      <td>9</td>\n",
       "      <td>SEAFOOD</td>\n",
       "      <td>16.0000</td>\n",
       "      <td>0</td>\n",
       "      <td>Holiday</td>\n",
       "      <td>Local</td>\n",
       "      <td>Riobamba</td>\n",
       "      <td>Fundacion de Riobamba</td>\n",
       "      <td>False</td>\n",
       "      <td>47.5700</td>\n",
       "    </tr>\n",
       "  </tbody>\n",
       "</table>\n",
       "<p>3054348 rows × 12 columns</p>\n",
       "</div>"
      ],
      "text/plain": [
       "              id        date  store_nbr                      family     sales  \\\n",
       "0              0  2013-01-01          1                  AUTOMOTIVE    0.0000   \n",
       "1              1  2013-01-01          1                   BABY CARE    0.0000   \n",
       "2              2  2013-01-01          1                      BEAUTY    0.0000   \n",
       "3              3  2013-01-01          1                   BEVERAGES    0.0000   \n",
       "4              4  2013-01-01          1                       BOOKS    0.0000   \n",
       "...          ...         ...        ...                         ...       ...   \n",
       "3054343  3000883  2017-08-15          9                     POULTRY  438.1330   \n",
       "3054344  3000884  2017-08-15          9              PREPARED FOODS  154.5530   \n",
       "3054345  3000885  2017-08-15          9                     PRODUCE 2419.7290   \n",
       "3054346  3000886  2017-08-15          9  SCHOOL AND OFFICE SUPPLIES  121.0000   \n",
       "3054347  3000887  2017-08-15          9                     SEAFOOD   16.0000   \n",
       "\n",
       "         onpromotion     type    locale locale_name            description  \\\n",
       "0                  0  Holiday  National     Ecuador     Primer dia del ano   \n",
       "1                  0  Holiday  National     Ecuador     Primer dia del ano   \n",
       "2                  0  Holiday  National     Ecuador     Primer dia del ano   \n",
       "3                  0  Holiday  National     Ecuador     Primer dia del ano   \n",
       "4                  0  Holiday  National     Ecuador     Primer dia del ano   \n",
       "...              ...      ...       ...         ...                    ...   \n",
       "3054343            0  Holiday     Local    Riobamba  Fundacion de Riobamba   \n",
       "3054344            1  Holiday     Local    Riobamba  Fundacion de Riobamba   \n",
       "3054345          148  Holiday     Local    Riobamba  Fundacion de Riobamba   \n",
       "3054346            8  Holiday     Local    Riobamba  Fundacion de Riobamba   \n",
       "3054347            0  Holiday     Local    Riobamba  Fundacion de Riobamba   \n",
       "\n",
       "        transferred  dcoilwtico  \n",
       "0             False         NaN  \n",
       "1             False         NaN  \n",
       "2             False         NaN  \n",
       "3             False         NaN  \n",
       "4             False         NaN  \n",
       "...             ...         ...  \n",
       "3054343       False     47.5700  \n",
       "3054344       False     47.5700  \n",
       "3054345       False     47.5700  \n",
       "3054346       False     47.5700  \n",
       "3054347       False     47.5700  \n",
       "\n",
       "[3054348 rows x 12 columns]"
      ]
     },
     "execution_count": 3,
     "metadata": {},
     "output_type": "execute_result"
    }
   ],
   "source": [
    "aux_train = pd.merge(df_train, df_holidays_events,on='date',how='left')\n",
    "train = pd.merge(aux_train, df_oil,on='date',how='left')\n",
    "aux_test = pd.merge(df_test, df_holidays_events,on='date',how='left')\n",
    "test = pd.merge(aux_test, df_oil,on='date',how='left')\n",
    "train"
   ]
  },
  {
   "cell_type": "markdown",
   "id": "c571bdd4",
   "metadata": {
    "papermill": {
     "duration": 0.012046,
     "end_time": "2022-09-14T03:50:36.791865",
     "exception": false,
     "start_time": "2022-09-14T03:50:36.779819",
     "status": "completed"
    },
    "tags": []
   },
   "source": [
    "Al mergear la tabla \"holidays events\" con \"train\" y \"test\", nos quedan registros vacios (nan) en la columna de 'type' por lo que cambiamos estos por 0's"
   ]
  },
  {
   "cell_type": "code",
   "execution_count": 4,
   "id": "dec50d7e",
   "metadata": {
    "execution": {
     "iopub.execute_input": "2022-09-14T03:50:36.818485Z",
     "iopub.status.busy": "2022-09-14T03:50:36.817429Z",
     "iopub.status.idle": "2022-09-14T03:50:37.034175Z",
     "shell.execute_reply": "2022-09-14T03:50:37.032855Z"
    },
    "papermill": {
     "duration": 0.233671,
     "end_time": "2022-09-14T03:50:37.037256",
     "exception": false,
     "start_time": "2022-09-14T03:50:36.803585",
     "status": "completed"
    },
    "tags": []
   },
   "outputs": [],
   "source": [
    "train['type'] = train['type'].fillna(0)\n",
    "test['type'] = test['type'].fillna(0)"
   ]
  },
  {
   "cell_type": "markdown",
   "id": "8f7f0658",
   "metadata": {
    "papermill": {
     "duration": 0.011351,
     "end_time": "2022-09-14T03:50:37.059954",
     "exception": false,
     "start_time": "2022-09-14T03:50:37.048603",
     "status": "completed"
    },
    "tags": []
   },
   "source": [
    "Al resto de los datos de esta columna los cambiamos por 1's, para asi tener como registro si ese dia es de vacaciones o no"
   ]
  },
  {
   "cell_type": "code",
   "execution_count": 5,
   "id": "1a26d208",
   "metadata": {
    "execution": {
     "iopub.execute_input": "2022-09-14T03:50:37.085488Z",
     "iopub.status.busy": "2022-09-14T03:50:37.085020Z",
     "iopub.status.idle": "2022-09-14T03:50:38.805622Z",
     "shell.execute_reply": "2022-09-14T03:50:38.804147Z"
    },
    "papermill": {
     "duration": 1.738108,
     "end_time": "2022-09-14T03:50:38.809718",
     "exception": false,
     "start_time": "2022-09-14T03:50:37.071610",
     "status": "completed"
    },
    "tags": []
   },
   "outputs": [],
   "source": [
    "train.type = train.type.replace(['Holiday', 'Event', 'Additional', 'Transfer', 'Work Day', 'Bridge'], 1)\n",
    "test.type = test.type.replace(['Holiday', 'Event', 'Additional', 'Transfer', 'Work Day', 'Bridge'], 1)"
   ]
  },
  {
   "cell_type": "markdown",
   "id": "edd89745",
   "metadata": {
    "papermill": {
     "duration": 0.011292,
     "end_time": "2022-09-14T03:50:38.833602",
     "exception": false,
     "start_time": "2022-09-14T03:50:38.822310",
     "status": "completed"
    },
    "tags": []
   },
   "source": [
    "Graficamos los datos de las ventas promedio en la historia."
   ]
  },
  {
   "cell_type": "code",
   "execution_count": 6,
   "id": "f4328723",
   "metadata": {
    "execution": {
     "iopub.execute_input": "2022-09-14T03:50:38.858633Z",
     "iopub.status.busy": "2022-09-14T03:50:38.858150Z",
     "iopub.status.idle": "2022-09-14T03:50:40.888943Z",
     "shell.execute_reply": "2022-09-14T03:50:40.887426Z"
    },
    "papermill": {
     "duration": 2.0478,
     "end_time": "2022-09-14T03:50:40.892827",
     "exception": false,
     "start_time": "2022-09-14T03:50:38.845027",
     "status": "completed"
    },
    "tags": []
   },
   "outputs": [
    {
     "data": {
      "image/png": "[encoded data removed]",
      "text/plain": [
       "<Figure size 1440x720 with 1 Axes>"
      ]
     },
     "metadata": {
      "needs_background": "light"
     },
     "output_type": "display_data"
    }
   ],
   "source": [
    "average_sales = train.groupby('date').mean()['sales'].to_frame().reset_index()\n",
    "\n",
    "# Date se gráfica en base a su indice, porque son muchas fechas las que se deben gráficar\n",
    "average_sales.plot(style='.', figsize=(20,10), title='Average Sales', xlabel='date', ylabel='sales');"
   ]
  },
  {
   "cell_type": "markdown",
   "id": "228cbb94",
   "metadata": {
    "papermill": {
     "duration": 0.012129,
     "end_time": "2022-09-14T03:50:40.917374",
     "exception": false,
     "start_time": "2022-09-14T03:50:40.905245",
     "status": "completed"
    },
    "tags": []
   },
   "source": [
    "Realizamos una winzorizacion de los datos de la columna 'sales', ya que en estos hay registros con valores muy altos o muy bajos, que hacen que el modelo sea menos preciso"
   ]
  },
  {
   "cell_type": "code",
   "execution_count": 7,
   "id": "8734e126",
   "metadata": {
    "execution": {
     "iopub.execute_input": "2022-09-14T03:50:40.944188Z",
     "iopub.status.busy": "2022-09-14T03:50:40.943162Z",
     "iopub.status.idle": "2022-09-14T03:50:41.393291Z",
     "shell.execute_reply": "2022-09-14T03:50:41.392020Z"
    },
    "papermill": {
     "duration": 0.467117,
     "end_time": "2022-09-14T03:50:41.396586",
     "exception": false,
     "start_time": "2022-09-14T03:50:40.929469",
     "status": "completed"
    },
    "tags": []
   },
   "outputs": [],
   "source": [
    "from scipy.stats.mstats import winsorize\n",
    "train[\"sales\"] = winsorize(train[\"sales\"], limits=[0.0001, 0.2])"
   ]
  },
  {
   "cell_type": "code",
   "execution_count": 8,
   "id": "76cfcc6e",
   "metadata": {
    "execution": {
     "iopub.execute_input": "2022-09-14T03:50:41.424756Z",
     "iopub.status.busy": "2022-09-14T03:50:41.423547Z",
     "iopub.status.idle": "2022-09-14T03:50:42.505166Z",
     "shell.execute_reply": "2022-09-14T03:50:42.503840Z"
    },
    "papermill": {
     "duration": 1.098821,
     "end_time": "2022-09-14T03:50:42.507976",
     "exception": false,
     "start_time": "2022-09-14T03:50:41.409155",
     "status": "completed"
    },
    "tags": []
   },
   "outputs": [
    {
     "data": {
      "image/png": "[encoded data removed]",
      "text/plain": [
       "<Figure size 1440x720 with 1 Axes>"
      ]
     },
     "metadata": {
      "needs_background": "light"
     },
     "output_type": "display_data"
    }
   ],
   "source": [
    "# Date se gráfica en base a su indice, porque son muchas fechas las que se deben gráficar\n",
    "average_winzoriced_sales = train.groupby('date').mean()['sales'].to_frame().reset_index()\n",
    "average_winzoriced_sales.plot(style='.', figsize=(20,10), title='Average Sales', xlabel='date', ylabel='sales');"
   ]
  },
  {
   "cell_type": "markdown",
   "id": "c303f8ef",
   "metadata": {
    "papermill": {
     "duration": 0.012768,
     "end_time": "2022-09-14T03:50:42.534480",
     "exception": false,
     "start_time": "2022-09-14T03:50:42.521712",
     "status": "completed"
    },
    "tags": []
   },
   "source": [
    "Llenamos los valores N/A de la columna de dcoilwtico"
   ]
  },
  {
   "cell_type": "code",
   "execution_count": 9,
   "id": "175bc17d",
   "metadata": {
    "execution": {
     "iopub.execute_input": "2022-09-14T03:50:42.564134Z",
     "iopub.status.busy": "2022-09-14T03:50:42.563647Z",
     "iopub.status.idle": "2022-09-14T03:50:42.947224Z",
     "shell.execute_reply": "2022-09-14T03:50:42.945773Z"
    },
    "papermill": {
     "duration": 0.402491,
     "end_time": "2022-09-14T03:50:42.950552",
     "exception": false,
     "start_time": "2022-09-14T03:50:42.548061",
     "status": "completed"
    },
    "tags": []
   },
   "outputs": [],
   "source": [
    "#Filling the na values with the median othe the whole column\n",
    "si = SimpleImputer(missing_values=np.nan, strategy=\"median\")\n",
    "si.fit(train[['dcoilwtico']])\n",
    "si.fit(test[['dcoilwtico']])\n",
    "\n",
    "#Filling missing data with median\n",
    "train['dcoilwtico'] = si.transform(train[['dcoilwtico']])\n",
    "test['dcoilwtico'] = si.transform(test[['dcoilwtico']])"
   ]
  },
  {
   "cell_type": "markdown",
   "id": "947ecd3e",
   "metadata": {
    "papermill": {
     "duration": 0.012605,
     "end_time": "2022-09-14T03:50:42.976078",
     "exception": false,
     "start_time": "2022-09-14T03:50:42.963473",
     "status": "completed"
    },
    "tags": []
   },
   "source": [
    "Cambiamos los valores de \"family\" por valores numericos para el analisis del modelo"
   ]
  },
  {
   "cell_type": "code",
   "execution_count": 10,
   "id": "c39a0db1",
   "metadata": {
    "execution": {
     "iopub.execute_input": "2022-09-14T03:50:43.004687Z",
     "iopub.status.busy": "2022-09-14T03:50:43.003770Z",
     "iopub.status.idle": "2022-09-14T03:50:44.089477Z",
     "shell.execute_reply": "2022-09-14T03:50:44.088212Z"
    },
    "papermill": {
     "duration": 1.10377,
     "end_time": "2022-09-14T03:50:44.092773",
     "exception": false,
     "start_time": "2022-09-14T03:50:42.989003",
     "status": "completed"
    },
    "tags": []
   },
   "outputs": [],
   "source": [
    "from sklearn.preprocessing import LabelEncoder\n",
    "label_encoder = LabelEncoder()  \n",
    "family_labels = label_encoder.fit_transform(train['family'])\n",
    "\n",
    "label_encoder_test = LabelEncoder() \n",
    "family_labels_test = label_encoder_test.fit_transform(test['family'])\n",
    "\n",
    "train['family'] = family_labels\n",
    "test['family'] = family_labels_test"
   ]
  },
  {
   "cell_type": "markdown",
   "id": "4df0c0e1",
   "metadata": {
    "papermill": {
     "duration": 0.013639,
     "end_time": "2022-09-14T03:50:44.120979",
     "exception": false,
     "start_time": "2022-09-14T03:50:44.107340",
     "status": "completed"
    },
    "tags": []
   },
   "source": [
    "Cambiamos los valores de \"locale\" por valores numericos para el analisis del modelo"
   ]
  },
  {
   "cell_type": "code",
   "execution_count": 11,
   "id": "5a1cf5d8",
   "metadata": {
    "execution": {
     "iopub.execute_input": "2022-09-14T03:50:44.149904Z",
     "iopub.status.busy": "2022-09-14T03:50:44.149390Z",
     "iopub.status.idle": "2022-09-14T03:50:45.125692Z",
     "shell.execute_reply": "2022-09-14T03:50:45.124370Z"
    },
    "papermill": {
     "duration": 0.994114,
     "end_time": "2022-09-14T03:50:45.128715",
     "exception": false,
     "start_time": "2022-09-14T03:50:44.134601",
     "status": "completed"
    },
    "tags": []
   },
   "outputs": [],
   "source": [
    "label_encoder = LabelEncoder()  \n",
    "locale_labels = label_encoder.fit_transform(train['locale'])\n",
    "\n",
    "label_encoder_test = LabelEncoder() \n",
    "locale_labels_test = label_encoder_test.fit_transform(test['locale'])\n",
    "\n",
    "train['locale'] = locale_labels\n",
    "test['locale'] = locale_labels_test"
   ]
  },
  {
   "cell_type": "markdown",
   "id": "c02fbc44",
   "metadata": {
    "papermill": {
     "duration": 0.012444,
     "end_time": "2022-09-14T03:50:45.154211",
     "exception": false,
     "start_time": "2022-09-14T03:50:45.141767",
     "status": "completed"
    },
    "tags": []
   },
   "source": [
    "Cambiamos los valores de \"locale_name\" por valores numericos para el analisis del modelo"
   ]
  },
  {
   "cell_type": "code",
   "execution_count": 12,
   "id": "ec4a38e7",
   "metadata": {
    "execution": {
     "iopub.execute_input": "2022-09-14T03:50:45.182381Z",
     "iopub.status.busy": "2022-09-14T03:50:45.181537Z",
     "iopub.status.idle": "2022-09-14T03:50:46.106000Z",
     "shell.execute_reply": "2022-09-14T03:50:46.104611Z"
    },
    "papermill": {
     "duration": 0.942064,
     "end_time": "2022-09-14T03:50:46.109150",
     "exception": false,
     "start_time": "2022-09-14T03:50:45.167086",
     "status": "completed"
    },
    "tags": []
   },
   "outputs": [],
   "source": [
    "label_encoder = LabelEncoder()  \n",
    "locale_name_labels = label_encoder.fit_transform(train['locale_name'])\n",
    "\n",
    "label_encoder_test = LabelEncoder() \n",
    "locale_name_labels_test = label_encoder_test.fit_transform(test['locale_name'])\n",
    "\n",
    "train['locale_name'] = locale_name_labels\n",
    "test['locale_name'] = locale_name_labels_test"
   ]
  },
  {
   "cell_type": "markdown",
   "id": "bf17cd2a",
   "metadata": {
    "papermill": {
     "duration": 0.013963,
     "end_time": "2022-09-14T03:50:46.136450",
     "exception": false,
     "start_time": "2022-09-14T03:50:46.122487",
     "status": "completed"
    },
    "tags": []
   },
   "source": [
    "Cambiamos los valores de \"description\" por valores numericos para el analisis del modelo"
   ]
  },
  {
   "cell_type": "code",
   "execution_count": 13,
   "id": "65ee86ee",
   "metadata": {
    "execution": {
     "iopub.execute_input": "2022-09-14T03:50:46.164890Z",
     "iopub.status.busy": "2022-09-14T03:50:46.164419Z",
     "iopub.status.idle": "2022-09-14T03:50:47.046556Z",
     "shell.execute_reply": "2022-09-14T03:50:47.045227Z"
    },
    "papermill": {
     "duration": 0.89945,
     "end_time": "2022-09-14T03:50:47.049479",
     "exception": false,
     "start_time": "2022-09-14T03:50:46.150029",
     "status": "completed"
    },
    "tags": []
   },
   "outputs": [],
   "source": [
    "label_encoder = LabelEncoder()  \n",
    "description_labels = label_encoder.fit_transform(train['description'])\n",
    "\n",
    "label_encoder_test = LabelEncoder() \n",
    "description_labels_test = label_encoder_test.fit_transform(test['description'])\n",
    "\n",
    "train['description'] = description_labels\n",
    "test['description'] = description_labels_test"
   ]
  },
  {
   "cell_type": "markdown",
   "id": "7850b99b",
   "metadata": {
    "papermill": {
     "duration": 0.012867,
     "end_time": "2022-09-14T03:50:47.075456",
     "exception": false,
     "start_time": "2022-09-14T03:50:47.062589",
     "status": "completed"
    },
    "tags": []
   },
   "source": [
    "Hacemos un análisis de multicolinearidad para sabe si hay fuerte correlación entre variables explicativas del modelo."
   ]
  },
  {
   "cell_type": "code",
   "execution_count": 14,
   "id": "41744082",
   "metadata": {
    "execution": {
     "iopub.execute_input": "2022-09-14T03:50:47.104489Z",
     "iopub.status.busy": "2022-09-14T03:50:47.103240Z",
     "iopub.status.idle": "2022-09-14T03:51:15.198897Z",
     "shell.execute_reply": "2022-09-14T03:51:15.197590Z"
    },
    "papermill": {
     "duration": 28.115115,
     "end_time": "2022-09-14T03:51:15.203660",
     "exception": false,
     "start_time": "2022-09-14T03:50:47.088545",
     "status": "completed"
    },
    "tags": []
   },
   "outputs": [
    {
     "name": "stdout",
     "output_type": "stream",
     "text": [
      "       feature      VIF\n",
      "0    store_nbr   4.0817\n",
      "1       family   3.8046\n",
      "2  onpromotion   1.0618\n",
      "3         type   2.4697\n",
      "4       locale 121.6755\n",
      "5  locale_name  43.2882\n",
      "6  description  98.3369\n",
      "7   dcoilwtico   7.9495\n"
     ]
    }
   ],
   "source": [
    "from statsmodels.stats.outliers_influence import variance_inflation_factor\n",
    "vif_data = pd.DataFrame()\n",
    "\n",
    "vif  = train[[\"store_nbr\", 'family', 'onpromotion', 'type', 'locale', 'locale_name', 'description', 'dcoilwtico']]\n",
    "\n",
    "vif_data[\"feature\"] = vif.columns\n",
    "  \n",
    "# calculating VIF for each feature\n",
    "vif_data[\"VIF\"] = [variance_inflation_factor(vif.values, i) for i in range(len(vif.columns))]\n",
    "\n",
    "print(vif_data)"
   ]
  },
  {
   "cell_type": "markdown",
   "id": "80137e72",
   "metadata": {
    "papermill": {
     "duration": 0.033743,
     "end_time": "2022-09-14T03:51:15.270178",
     "exception": false,
     "start_time": "2022-09-14T03:51:15.236435",
     "status": "completed"
    },
    "tags": []
   },
   "source": [
    "En la multicolinearidad asumimos que tenemos un limite de 5, por lo que al analizar nuestro resultamo llegamos a la conclusión de eliminar las columnas de 'locale', 'locale_name', description' y 'dcoilwtico'. Por lo que procedemos a droppear las columnas dichas anteriormente ya que son valores que no aportan información nueva al modelo.<br>\n",
    "También vemos que la mayoria de los valores para la columna \"transferred\" son NA, por lo que deducimos que no combiene tomarla en cuenta para nuestro modelo, porque también vamos a eliminarla."
   ]
  },
  {
   "cell_type": "code",
   "execution_count": 15,
   "id": "28e11902",
   "metadata": {
    "execution": {
     "iopub.execute_input": "2022-09-14T03:51:15.320614Z",
     "iopub.status.busy": "2022-09-14T03:51:15.320129Z",
     "iopub.status.idle": "2022-09-14T03:51:15.432435Z",
     "shell.execute_reply": "2022-09-14T03:51:15.431172Z"
    },
    "papermill": {
     "duration": 0.132552,
     "end_time": "2022-09-14T03:51:15.435611",
     "exception": false,
     "start_time": "2022-09-14T03:51:15.303059",
     "status": "completed"
    },
    "tags": []
   },
   "outputs": [],
   "source": [
    "train = train.drop(['locale', 'locale_name', 'description', 'transferred', 'dcoilwtico'], axis = 1)\n",
    "test = test.drop(['locale', 'locale_name', 'description', 'transferred', 'dcoilwtico'], axis = 1)"
   ]
  },
  {
   "cell_type": "markdown",
   "id": "b3b76aa1",
   "metadata": {
    "papermill": {
     "duration": 0.012974,
     "end_time": "2022-09-14T03:51:15.462027",
     "exception": false,
     "start_time": "2022-09-14T03:51:15.449053",
     "status": "completed"
    },
    "tags": []
   },
   "source": [
    "Elegimos nuestras 'X' y 'y' del modelo, los cuales seran \"store_nbr\", \"family\", \"onpromotion\", \"type\" para las Xs y \"sales\" para la 'y', tomando en cuenta lo que realizamos arriba."
   ]
  },
  {
   "cell_type": "code",
   "execution_count": 16,
   "id": "ba972d5a",
   "metadata": {
    "execution": {
     "iopub.execute_input": "2022-09-14T03:51:15.490998Z",
     "iopub.status.busy": "2022-09-14T03:51:15.490145Z",
     "iopub.status.idle": "2022-09-14T03:51:15.603849Z",
     "shell.execute_reply": "2022-09-14T03:51:15.602494Z"
    },
    "papermill": {
     "duration": 0.131771,
     "end_time": "2022-09-14T03:51:15.606927",
     "exception": false,
     "start_time": "2022-09-14T03:51:15.475156",
     "status": "completed"
    },
    "tags": []
   },
   "outputs": [],
   "source": [
    "X = train.drop(['sales'], axis = 1)  \n",
    "y = train['sales']"
   ]
  },
  {
   "cell_type": "markdown",
   "id": "a29728fd",
   "metadata": {
    "papermill": {
     "duration": 0.012781,
     "end_time": "2022-09-14T03:51:15.632944",
     "exception": false,
     "start_time": "2022-09-14T03:51:15.620163",
     "status": "completed"
    },
    "tags": []
   },
   "source": [
    "Dropeamos la columna de \"id\", ya que esta no genera ganancia al modelo y son valores unicos"
   ]
  },
  {
   "cell_type": "code",
   "execution_count": 17,
   "id": "d1c27694",
   "metadata": {
    "execution": {
     "iopub.execute_input": "2022-09-14T03:51:15.662166Z",
     "iopub.status.busy": "2022-09-14T03:51:15.661671Z",
     "iopub.status.idle": "2022-09-14T03:51:15.786208Z",
     "shell.execute_reply": "2022-09-14T03:51:15.784687Z"
    },
    "papermill": {
     "duration": 0.142744,
     "end_time": "2022-09-14T03:51:15.789181",
     "exception": false,
     "start_time": "2022-09-14T03:51:15.646437",
     "status": "completed"
    },
    "tags": []
   },
   "outputs": [],
   "source": [
    "X = X.drop([('id')], axis = 1)\n",
    "ids = test['id']\n",
    "test = test.drop(['id'], axis = 1)"
   ]
  },
  {
   "cell_type": "markdown",
   "id": "675db5e2",
   "metadata": {
    "papermill": {
     "duration": 0.013027,
     "end_time": "2022-09-14T03:51:15.815945",
     "exception": false,
     "start_time": "2022-09-14T03:51:15.802918",
     "status": "completed"
    },
    "tags": []
   },
   "source": [
    "Dropeamos \"date\" ya que ya contamos con los datos necesarios por cada dia "
   ]
  },
  {
   "cell_type": "code",
   "execution_count": 18,
   "id": "b4e46ff8",
   "metadata": {
    "execution": {
     "iopub.execute_input": "2022-09-14T03:51:15.844420Z",
     "iopub.status.busy": "2022-09-14T03:51:15.843930Z",
     "iopub.status.idle": "2022-09-14T03:51:15.914254Z",
     "shell.execute_reply": "2022-09-14T03:51:15.912933Z"
    },
    "papermill": {
     "duration": 0.087643,
     "end_time": "2022-09-14T03:51:15.916803",
     "exception": false,
     "start_time": "2022-09-14T03:51:15.829160",
     "status": "completed"
    },
    "tags": []
   },
   "outputs": [],
   "source": [
    "X = X.drop(['date'], axis = 1)\n",
    "date = test['date']\n",
    "test = test.drop(['date'], axis = 1)"
   ]
  },
  {
   "cell_type": "markdown",
   "id": "91e7be97",
   "metadata": {
    "papermill": {
     "duration": 0.012887,
     "end_time": "2022-09-14T03:51:15.942971",
     "exception": false,
     "start_time": "2022-09-14T03:51:15.930084",
     "status": "completed"
    },
    "tags": []
   },
   "source": [
    "Para llegar a nuestra solución final, tuvimos varias pruebas con otros modelos los cuales fueron:\n",
    "\n",
    "- Modelo de Regresión Lineal\n",
    "En el modelo de regresión linear usamos el framework de sklearn para que nos generara nuestro modelo y obtuvimos un score de 2.5.<br>\n",
    "`\n",
    "model = LinearRegression()\n",
    "model.fit(X, y)\n",
    "`\n",
    "\n",
    "- Modelo de Random Forest\n",
    "    + Realizamos el siguiente código para nuestras prueba, que es la combinación de varios áboles de decisión tal que cada árbol depende de los valores de un vector aleatorio probado independientemente y con la misma distribución para cada uno de estos. Cambiando sus hiperparámetros de profundidad máxima a 2 y random state como 0:<br>\n",
    "    `\n",
    "    regr = RandomForestRegressor(max_depth=3, random_state=0)\n",
    "    `<br>\n",
    "    Con esta confguración terminamos obteniendo un score de 2.09<br><br>\n",
    "    \n",
    "- Finalmente descubrimos más sobre el __XGBoost__ que nos dio un score de 1.17, como la mejor puntuación que obtuvimos."
   ]
  },
  {
   "cell_type": "markdown",
   "id": "c7b1f1c4",
   "metadata": {
    "papermill": {
     "duration": 0.012504,
     "end_time": "2022-09-14T03:51:15.968529",
     "exception": false,
     "start_time": "2022-09-14T03:51:15.956025",
     "status": "completed"
    },
    "tags": []
   },
   "source": [
    "Implementamos la regresión de XGBoost de la API de sklearn, modificando solamente el parametro de objetivo de regressión a lineal y le asignamos a su semilla el número 42 (porque describe el universo como lo conocemos).\n",
    "\n",
    "XGBoost es un algoritmo de aprendizaje automático basado en un árbol de decisión que utiliza un marco de refuerzo de gradiente. Su funcionamiento es de manera secuencial, este algoritmo posee la perfecta combinación de técnicas para optimización entre software y hardware, el algoritmo posee:\n",
    "- Construcción de árboles paralelizados.\n",
    "- Poda de árboles utilizando el primer enfoque de profundidad.\n",
    "- Reconocimiento de caché y computación fuera del núcleo.\n",
    "- Regularización y evación de overfitting.\n",
    "- Manejo eficiente de datos perdidos.\n",
    "- Posse capacidad para construir cross validation.\n",
    "\n",
    "<div align=\"center\"><img width=\"500\" height=\"500\" src='https://www.researchgate.net/publication/345327934/figure/fig3/AS:1022810793209856@1620868504478/Flow-chart-of-XGBoost.png'></div>\n"
   ]
  },
  {
   "cell_type": "code",
   "execution_count": 19,
   "id": "d81c8e37",
   "metadata": {
    "execution": {
     "iopub.execute_input": "2022-09-14T03:51:15.996478Z",
     "iopub.status.busy": "2022-09-14T03:51:15.995959Z",
     "iopub.status.idle": "2022-09-14T03:51:16.001799Z",
     "shell.execute_reply": "2022-09-14T03:51:16.000594Z"
    },
    "papermill": {
     "duration": 0.022853,
     "end_time": "2022-09-14T03:51:16.004295",
     "exception": false,
     "start_time": "2022-09-14T03:51:15.981442",
     "status": "completed"
    },
    "tags": []
   },
   "outputs": [],
   "source": [
    "xgb_model = xgb.XGBRegressor(objective=\"reg:linear\", random_state=42)"
   ]
  },
  {
   "cell_type": "markdown",
   "id": "6b642b6e",
   "metadata": {
    "papermill": {
     "duration": 0.012731,
     "end_time": "2022-09-14T03:51:16.030059",
     "exception": false,
     "start_time": "2022-09-14T03:51:16.017328",
     "status": "completed"
    },
    "tags": []
   },
   "source": [
    "Entrenamos nuestro modelo con los datos de X y como resulltado nuestras y"
   ]
  },
  {
   "cell_type": "code",
   "execution_count": 20,
   "id": "b0c6b83f",
   "metadata": {
    "execution": {
     "iopub.execute_input": "2022-09-14T03:51:16.058340Z",
     "iopub.status.busy": "2022-09-14T03:51:16.057858Z",
     "iopub.status.idle": "2022-09-14T03:53:38.691203Z",
     "shell.execute_reply": "2022-09-14T03:53:38.689843Z"
    },
    "papermill": {
     "duration": 142.662986,
     "end_time": "2022-09-14T03:53:38.706245",
     "exception": false,
     "start_time": "2022-09-14T03:51:16.043259",
     "status": "completed"
    },
    "tags": []
   },
   "outputs": [
    {
     "name": "stdout",
     "output_type": "stream",
     "text": [
      "[03:51:16] WARNING: ../src/objective/regression_obj.cu:203: reg:linear is now deprecated in favor of reg:squarederror.\n"
     ]
    },
    {
     "data": {
      "text/plain": [
       "XGBRegressor(base_score=0.5, booster='gbtree', callbacks=None,\n",
       "             colsample_bylevel=1, colsample_bynode=1, colsample_bytree=1,\n",
       "             early_stopping_rounds=None, enable_categorical=False,\n",
       "             eval_metric=None, gamma=0, gpu_id=-1, grow_policy='depthwise',\n",
       "             importance_type=None, interaction_constraints='',\n",
       "             learning_rate=0.300000012, max_bin=256, max_cat_to_onehot=4,\n",
       "             max_delta_step=0, max_depth=6, max_leaves=0, min_child_weight=1,\n",
       "             missing=nan, monotone_constraints='()', n_estimators=100, n_jobs=0,\n",
       "             num_parallel_tree=1, objective='reg:linear', predictor='auto',\n",
       "             random_state=42, reg_alpha=0, ...)"
      ]
     },
     "execution_count": 20,
     "metadata": {},
     "output_type": "execute_result"
    }
   ],
   "source": [
    "xgb_model.fit(X, y)"
   ]
  },
  {
   "cell_type": "markdown",
   "id": "30580c89",
   "metadata": {
    "papermill": {
     "duration": 0.013287,
     "end_time": "2022-09-14T03:53:38.733128",
     "exception": false,
     "start_time": "2022-09-14T03:53:38.719841",
     "status": "completed"
    },
    "tags": []
   },
   "source": [
    "Predecimos sobre el modelo actal con los datos de test"
   ]
  },
  {
   "cell_type": "code",
   "execution_count": 21,
   "id": "8925970d",
   "metadata": {
    "execution": {
     "iopub.execute_input": "2022-09-14T03:53:38.761539Z",
     "iopub.status.busy": "2022-09-14T03:53:38.761054Z",
     "iopub.status.idle": "2022-09-14T03:53:38.823598Z",
     "shell.execute_reply": "2022-09-14T03:53:38.822498Z"
    },
    "papermill": {
     "duration": 0.080389,
     "end_time": "2022-09-14T03:53:38.826686",
     "exception": false,
     "start_time": "2022-09-14T03:53:38.746297",
     "status": "completed"
    },
    "tags": []
   },
   "outputs": [],
   "source": [
    "y_pred = xgb_model.predict(test)\n",
    "\n",
    "xgb_model.save_model(\"model.json\")"
   ]
  },
  {
   "cell_type": "markdown",
   "id": "ec66a932",
   "metadata": {
    "papermill": {
     "duration": 0.013529,
     "end_time": "2022-09-14T03:53:38.854225",
     "exception": false,
     "start_time": "2022-09-14T03:53:38.840696",
     "status": "completed"
    },
    "tags": []
   },
   "source": [
    "Pasamos de un numpy array a DataFrame"
   ]
  },
  {
   "cell_type": "code",
   "execution_count": 22,
   "id": "fcd5326a",
   "metadata": {
    "execution": {
     "iopub.execute_input": "2022-09-14T03:53:38.882609Z",
     "iopub.status.busy": "2022-09-14T03:53:38.882091Z",
     "iopub.status.idle": "2022-09-14T03:53:38.888922Z",
     "shell.execute_reply": "2022-09-14T03:53:38.887669Z"
    },
    "papermill": {
     "duration": 0.023977,
     "end_time": "2022-09-14T03:53:38.891361",
     "exception": false,
     "start_time": "2022-09-14T03:53:38.867384",
     "status": "completed"
    },
    "tags": []
   },
   "outputs": [],
   "source": [
    "y_pred = pd.DataFrame(\n",
    "    y_pred,\n",
    "    index = test.index,\n",
    "    columns = ['sales']\n",
    ")"
   ]
  },
  {
   "cell_type": "markdown",
   "id": "5edb5da6",
   "metadata": {
    "papermill": {
     "duration": 0.012982,
     "end_time": "2022-09-14T03:53:38.917872",
     "exception": false,
     "start_time": "2022-09-14T03:53:38.904890",
     "status": "completed"
    },
    "tags": []
   },
   "source": [
    "Agregamos los id iniciales del dataframe test para el submit de los datos"
   ]
  },
  {
   "cell_type": "code",
   "execution_count": 23,
   "id": "8fba5104",
   "metadata": {
    "execution": {
     "iopub.execute_input": "2022-09-14T03:53:38.948752Z",
     "iopub.status.busy": "2022-09-14T03:53:38.947499Z",
     "iopub.status.idle": "2022-09-14T03:53:38.960029Z",
     "shell.execute_reply": "2022-09-14T03:53:38.958708Z"
    },
    "papermill": {
     "duration": 0.030641,
     "end_time": "2022-09-14T03:53:38.963099",
     "exception": false,
     "start_time": "2022-09-14T03:53:38.932458",
     "status": "completed"
    },
    "tags": []
   },
   "outputs": [],
   "source": [
    "y_pred = y_pred.join(ids).reindex(columns = ['id', 'sales'])"
   ]
  },
  {
   "cell_type": "markdown",
   "id": "6bfd0c84",
   "metadata": {
    "papermill": {
     "duration": 0.01288,
     "end_time": "2022-09-14T03:53:38.989452",
     "exception": false,
     "start_time": "2022-09-14T03:53:38.976572",
     "status": "completed"
    },
    "tags": []
   },
   "source": [
    "Creamos una copia de los datos para poder agregar las fechas iniciales y asi poder graficar la prediccion de las ventas de cada dia "
   ]
  },
  {
   "cell_type": "code",
   "execution_count": 24,
   "id": "2fca0893",
   "metadata": {
    "execution": {
     "iopub.execute_input": "2022-09-14T03:53:39.019854Z",
     "iopub.status.busy": "2022-09-14T03:53:39.019334Z",
     "iopub.status.idle": "2022-09-14T03:53:39.027229Z",
     "shell.execute_reply": "2022-09-14T03:53:39.025964Z"
    },
    "papermill": {
     "duration": 0.02703,
     "end_time": "2022-09-14T03:53:39.030111",
     "exception": false,
     "start_time": "2022-09-14T03:53:39.003081",
     "status": "completed"
    },
    "tags": []
   },
   "outputs": [],
   "source": [
    "y_pred_grafica = y_pred.copy()\n",
    "y_pred_grafica['date'] = date"
   ]
  },
  {
   "cell_type": "code",
   "execution_count": 25,
   "id": "53649421",
   "metadata": {
    "execution": {
     "iopub.execute_input": "2022-09-14T03:53:39.061039Z",
     "iopub.status.busy": "2022-09-14T03:53:39.060130Z",
     "iopub.status.idle": "2022-09-14T03:53:39.345939Z",
     "shell.execute_reply": "2022-09-14T03:53:39.344659Z"
    },
    "papermill": {
     "duration": 0.304964,
     "end_time": "2022-09-14T03:53:39.348776",
     "exception": false,
     "start_time": "2022-09-14T03:53:39.043812",
     "status": "completed"
    },
    "tags": []
   },
   "outputs": [
    {
     "data": {
      "image/png": "[encoded data removed]",
      "text/plain": [
       "<Figure size 1080x504 with 1 Axes>"
      ]
     },
     "metadata": {
      "needs_background": "light"
     },
     "output_type": "display_data"
    }
   ],
   "source": [
    "graf = y_pred_grafica.groupby('date').mean()['sales'].to_frame().reset_index()\n",
    "graf.plot.line(figsize=(15,7), c = 'orange');"
   ]
  },
  {
   "cell_type": "code",
   "execution_count": 26,
   "id": "a76b45fe",
   "metadata": {
    "execution": {
     "iopub.execute_input": "2022-09-14T03:53:39.378780Z",
     "iopub.status.busy": "2022-09-14T03:53:39.377994Z",
     "iopub.status.idle": "2022-09-14T03:53:39.440553Z",
     "shell.execute_reply": "2022-09-14T03:53:39.439350Z"
    },
    "papermill": {
     "duration": 0.080838,
     "end_time": "2022-09-14T03:53:39.443590",
     "exception": false,
     "start_time": "2022-09-14T03:53:39.362752",
     "status": "completed"
    },
    "tags": []
   },
   "outputs": [],
   "source": [
    "y_pred.to_csv('submission.csv', index = False)"
   ]
  },
  {
   "cell_type": "code",
   "execution_count": null,
   "id": "2cf8d336",
   "metadata": {
    "papermill": {
     "duration": 0.013297,
     "end_time": "2022-09-14T03:53:39.470816",
     "exception": false,
     "start_time": "2022-09-14T03:53:39.457519",
     "status": "completed"
    },
    "tags": []
   },
   "outputs": [],
   "source": []
  }
 ],
 "metadata": {
  "kernelspec": {
   "display_name": "Python 3",
   "language": "python",
   "name": "python3"
  },
  "language_info": {
   "codemirror_mode": {
    "name": "ipython",
    "version": 3
   },
   "file_extension": ".py",
   "mimetype": "text/x-python",
   "name": "python",
   "nbconvert_exporter": "python",
   "pygments_lexer": "ipython3",
   "version": "3.7.12"
  },
  "papermill": {
   "default_parameters": {},
   "duration": 203.737993,
   "end_time": "2022-09-14T03:53:40.912667",
   "environment_variables": {},
   "exception": null,
   "input_path": "__notebook__.ipynb",
   "output_path": "__notebook__.ipynb",
   "parameters": {},
   "start_time": "2022-09-14T03:50:17.174674",
   "version": "2.3.4"
  }
 },
 "nbformat": 4,
 "nbformat_minor": 5
}
